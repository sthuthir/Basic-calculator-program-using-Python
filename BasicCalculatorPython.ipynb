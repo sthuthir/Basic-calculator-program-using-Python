{
  "nbformat": 4,
  "nbformat_minor": 0,
  "metadata": {
    "colab": {
      "provenance": [],
      "authorship_tag": "ABX9TyN8L5LERBneE9ZT/l8B1SJf",
      "include_colab_link": true
    },
    "kernelspec": {
      "name": "python3",
      "display_name": "Python 3"
    },
    "language_info": {
      "name": "python"
    }
  },
  "cells": [
    {
      "cell_type": "markdown",
      "metadata": {
        "id": "view-in-github",
        "colab_type": "text"
      },
      "source": [
        "<a href=\"https://colab.research.google.com/github/sthuthir/Basic-calculator-program-using-Python/blob/main/BasicCalculatorPython.ipynb\" target=\"_parent\"><img src=\"https://colab.research.google.com/assets/colab-badge.svg\" alt=\"Open In Colab\"/></a>"
      ]
    },
    {
      "cell_type": "code",
      "execution_count": null,
      "metadata": {
        "id": "dYu5Im-CJyR6"
      },
      "outputs": [],
      "source": [
        "!pip install tkinter\n",
        "import tkinter as tk\n",
        "import tkinter.messagebox\n",
        "from tkinter.constants import SUNKEN\n",
        "\n",
        "window = tk.Tk()\n",
        "window.title(\"Calculator\")"
      ]
    }
  ]
}